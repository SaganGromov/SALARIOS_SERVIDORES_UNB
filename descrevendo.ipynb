{
 "cells": [
  {
   "cell_type": "code",
   "execution_count": 31,
   "metadata": {},
   "outputs": [],
   "source": [
    "# Corrigir a formatação da coluna, removendo o \"R$\" e convertendo os valores de string para float\n",
    "\n",
    "import pandas as pd\n",
    "df = pd.read_csv('SALARIOS_SERVIDORES_UNB_AGOSTO.csv')\n",
    "df['REMUNERACAO BRUTA'] = df['REMUNERACAO BRUTA'].replace({'R\\$ ': '', '\\.': '', ',': '.'}, regex=True)\n",
    "\n",
    "# Converter para float, ignorando erros\n",
    "df['REMUNERACAO BRUTA'] = pd.to_numeric(df['REMUNERACAO BRUTA'], errors='coerce')\n",
    "\n",
    "# Filtrar valores não nulos (não-NaN) e diferentes de 0\n",
    "filtered_values = df['REMUNERACAO BRUTA'].dropna()\n",
    "filtered_values = filtered_values[filtered_values > 0]\n",
    "\n",
    "# Calcular mediana, mínimo e máximo\n",
    "mediana = filtered_values.median()\n",
    "minimo = filtered_values.min()\n",
    "maximo = filtered_values.max()\n",
    "\n",
    "# Filtrar os servidores que têm a remuneração igual à mediana, mínimo e máximo\n",
    "servidor_mediana = df[df['REMUNERACAO BRUTA'] == mediana]\n",
    "with open(\"dados.txt\", \"w\") as f:\n",
    "    f.write(\"A mediana é {mediana}. Os servidores com essa remuneração são: \\n \\n\")\n",
    "    for _, row in servidor_mediana.iloc[1:].iterrows():\n",
    "        f.write(row['NOME'] + ' | {depto}'.format(depto = row['DEPARTAMENTO']) + ' | {rem}\\n \\n'.format(rem=row['REMUNERACAO BRUTA']))\n",
    "\n",
    "# servidor_minimo = df[df['REMUNERACAO BRUTA'] == minimo]\n",
    "# servidor_maximo = df[df['REMUNERACAO BRUTA'] == maximo]\n",
    "\n",
    "# print(\"Servidores com a remuneração mediana:\")\n",
    "# print(servidor_mediana[['NOME', 'REMUNERACAO BRUTA']])\n",
    "\n",
    "# print(\"\\nServidores com a remuneração mínima:\")\n",
    "# print(servidor_minimo[['NOME', 'REMUNERACAO BRUTA']])\n",
    "\n",
    "# print(\"\\nServidores com a remuneração máxima:\")\n",
    "# print(servidor_maximo[['NOME', 'REMUNERACAO BRUTA']])\n",
    "\n"
   ]
  },
  {
   "cell_type": "code",
   "execution_count": null,
   "metadata": {},
   "outputs": [],
   "source": [
    "# Agrupar os dados por departamento e calcular a remuneração média\n",
    "departamento_maior_remuneracao = df.groupby('DEPARTAMENTO')['REMUNERACAO BRUTA'].mean().sort_values(ascending=False)\n",
    "\n",
    "print(\"Departamentos com as maiores remunerações (em média):\")\n",
    "print(departamento_maior_remuneracao)\n",
    "\n",
    "# Se quiser os departamentos com as maiores remunerações baseadas na mediana:\n",
    "departamento_mediana_remuneracao = df.groupby('DEPARTAMENTO')['REMUNERACAO BRUTA'].median().sort_values(ascending=False)\n",
    "\n",
    "print(\"\\nDepartamentos com as maiores remunerações (mediana):\")\n",
    "print(departamento_mediana_remuneracao)\n"
   ]
  },
  {
   "cell_type": "code",
   "execution_count": null,
   "metadata": {},
   "outputs": [],
   "source": [
    "# Agrupar os dados por departamento e calcular a média da remuneração bruta\n",
    "departamentos_por_media_salarial = df.groupby('DEPARTAMENTO')['REMUNERACAO BRUTA'].mean().sort_values(ascending=False)\n",
    "\n",
    "# Exibir a lista de departamentos por média salarial\n",
    "print(\"Departamentos ordenados pela média salarial:\")\n",
    "print(departamentos_por_media_salarial)\n"
   ]
  }
 ],
 "metadata": {
  "kernelspec": {
   "display_name": "Python 3",
   "language": "python",
   "name": "python3"
  },
  "language_info": {
   "codemirror_mode": {
    "name": "ipython",
    "version": 3
   },
   "file_extension": ".py",
   "mimetype": "text/x-python",
   "name": "python",
   "nbconvert_exporter": "python",
   "pygments_lexer": "ipython3",
   "version": "3.10.12"
  }
 },
 "nbformat": 4,
 "nbformat_minor": 2
}
